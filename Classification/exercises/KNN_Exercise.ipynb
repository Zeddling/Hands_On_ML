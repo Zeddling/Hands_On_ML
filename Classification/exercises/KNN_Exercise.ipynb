{
  "nbformat": 4,
  "nbformat_minor": 0,
  "metadata": {
    "colab": {
      "name": "KNN_Exercise.ipynb",
      "provenance": [],
      "collapsed_sections": []
    },
    "kernelspec": {
      "name": "python3",
      "display_name": "Python 3"
    },
    "language_info": {
      "name": "python"
    }
  },
  "cells": [
    {
      "cell_type": "markdown",
      "metadata": {
        "id": "5EF9F1w4QvSH"
      },
      "source": [
        "1. Build a classifier that achieves 97% accuracy on test set. \n",
        "Don't use a neural network"
      ]
    },
    {
      "cell_type": "code",
      "metadata": {
        "colab": {
          "base_uri": "https://localhost:8080/"
        },
        "id": "nt7nKrNpPt3E",
        "outputId": "a1855d56-a181-484f-d009-3a89a38d1aac"
      },
      "source": [
        "# Import MNIST dataset\n",
        "from sklearn.datasets import fetch_openml\n",
        "mnist = fetch_openml('mnist_784', version=1)\n",
        "mnist.keys()"
      ],
      "execution_count": 1,
      "outputs": [
        {
          "output_type": "execute_result",
          "data": {
            "text/plain": [
              "dict_keys(['data', 'target', 'frame', 'feature_names', 'target_names', 'DESCR', 'details', 'categories', 'url'])"
            ]
          },
          "metadata": {
            "tags": []
          },
          "execution_count": 1
        }
      ]
    },
    {
      "cell_type": "code",
      "metadata": {
        "colab": {
          "base_uri": "https://localhost:8080/"
        },
        "id": "FhA5xGBxRsgR",
        "outputId": "2bf7ac12-abc3-43ec-8276-2e2733bf35a7"
      },
      "source": [
        "# set X and y\n",
        "X, y = mnist[\"data\"], mnist[\"target\"]\n",
        "X.shape"
      ],
      "execution_count": 2,
      "outputs": [
        {
          "output_type": "execute_result",
          "data": {
            "text/plain": [
              "(70000, 784)"
            ]
          },
          "metadata": {
            "tags": []
          },
          "execution_count": 2
        }
      ]
    },
    {
      "cell_type": "code",
      "metadata": {
        "id": "lCRnyLoQR1ch"
      },
      "source": [
        "# Function to plot image from the dataset\n",
        "import matplotlib as mpl\n",
        "import matplotlib.pyplot as plt\n",
        "\n",
        "def plot_digit(digit):\n",
        "  reshaped_digit = digit.reshape(28, 28)\n",
        "  plt.imshow(reshaped_digit, cmap=mpl.cm.binary, interpolation=\"nearest\")\n",
        "  plt.axis(\"off\")\n",
        "  plt.show()"
      ],
      "execution_count": 3,
      "outputs": []
    },
    {
      "cell_type": "code",
      "metadata": {
        "id": "WC47X1S9SQ7F"
      },
      "source": [
        "# cast y to integers\n",
        "import numpy as np\n",
        "\n",
        "y = y.astype(np.uint8)"
      ],
      "execution_count": 4,
      "outputs": []
    },
    {
      "cell_type": "code",
      "metadata": {
        "id": "DhgnnUjQSaKN"
      },
      "source": [
        "# Separate train from test\n",
        "X_train, X_test, y_train, y_test = X[:60000], X[60000:], y[:60000], y[60000:]"
      ],
      "execution_count": 5,
      "outputs": []
    },
    {
      "cell_type": "code",
      "metadata": {
        "colab": {
          "base_uri": "https://localhost:8080/"
        },
        "id": "kSvp6l60Sr8A",
        "outputId": "9b1bc19a-1d49-4923-fcdf-da6f8176f89a"
      },
      "source": [
        "# Train with KNN classifier\n",
        "from sklearn.neighbors import KNeighborsClassifier\n",
        "from sklearn.model_selection import cross_val_predict\n",
        "from sklearn.model_selection import GridSearchCV\n",
        "\n",
        "# As a result of excessive training time, I'll use the best results from previous experiments\n",
        "n_neighbors = [4]\n",
        "weights = ['distance']\n",
        "param_grid = dict(n_neighbors=n_neighbors, weights=weights)\n",
        "param_grid"
      ],
      "execution_count": 6,
      "outputs": [
        {
          "output_type": "execute_result",
          "data": {
            "text/plain": [
              "{'n_neighbors': [4], 'weights': ['distance']}"
            ]
          },
          "metadata": {
            "tags": []
          },
          "execution_count": 6
        }
      ]
    },
    {
      "cell_type": "code",
      "metadata": {
        "colab": {
          "base_uri": "https://localhost:8080/"
        },
        "id": "lJszch7TX-Xb",
        "outputId": "ed7999e2-bd4d-4f29-9e9d-45a93e952b82"
      },
      "source": [
        "knn_clf = KNeighborsClassifier(n_neighbors=4, weights='distance')\n",
        "#grid_search = GridSearchCV(knn_clf, param_grid, cv=5,verbose=3)\n",
        "#grid_search.fit(X_train, y_train)\n",
        "knn_clf.fit(X_train, y_train)"
      ],
      "execution_count": 7,
      "outputs": [
        {
          "output_type": "execute_result",
          "data": {
            "text/plain": [
              "KNeighborsClassifier(algorithm='auto', leaf_size=30, metric='minkowski',\n",
              "                     metric_params=None, n_jobs=None, n_neighbors=4, p=2,\n",
              "                     weights='distance')"
            ]
          },
          "metadata": {
            "tags": []
          },
          "execution_count": 7
        }
      ]
    },
    {
      "cell_type": "code",
      "metadata": {
        "colab": {
          "base_uri": "https://localhost:8080/"
        },
        "id": "c289IU0shn30",
        "outputId": "93d9387e-12e4-4319-e5df-d0a48d001ef7"
      },
      "source": [
        "from sklearn.metrics import accuracy_score\n",
        "\n",
        "y_pred = knn_clf.predict(X_test)\n",
        "accuracy_score(y_pred, y_test)"
      ],
      "execution_count": 9,
      "outputs": [
        {
          "output_type": "execute_result",
          "data": {
            "text/plain": [
              "0.9714"
            ]
          },
          "metadata": {
            "tags": []
          },
          "execution_count": 9
        }
      ]
    },
    {
      "cell_type": "markdown",
      "metadata": {
        "id": "YgUbMifMNC3S"
      },
      "source": [
        "2. Data Augmentation on MNIST"
      ]
    },
    {
      "cell_type": "code",
      "metadata": {
        "id": "fPOP99wPM_Vu"
      },
      "source": [
        "from scipy.ndimage.interpolation import shift\n",
        "\n",
        "# Data Augmentation method\n",
        "def augment(image, dx, dy):\n",
        "  image = image.reshape((28, 28))\n",
        "  shifted_image = shift(image, [dy, dx], cval=0, mode=\"constant\")\n",
        "  return shifted_image.reshape([-1])"
      ],
      "execution_count": 10,
      "outputs": []
    },
    {
      "cell_type": "code",
      "metadata": {
        "id": "G6g1bkNvN4xT"
      },
      "source": [
        "# Create augmentated datset\n",
        "X_train_augmented = [image for image in X_train]\n",
        "y_train_augmented = [label for label in y_train]\n",
        "\n",
        "for dx, dy in ((1,0), (-1,0), (0,1), (0,-1)):\n",
        "  for image, label in zip(X_train, y_train):\n",
        "    X_train_augmented.append(augment(image, dx, dy))\n",
        "    y_train_augmented.append(label)\n",
        "\n",
        "# Shuffle dataset\n",
        "X_train_augmented = np.array(X_train_augmented)\n",
        "y_train_augmented = np.array(y_train_augmented)\n",
        "\n",
        "shuffle_idx = np.random.permutation(len(X_train_augmented))\n",
        "X_train_prepared = X_train_augmented[shuffle_idx]\n",
        "y_train_prepared = y_train_augmented[shuffle_idx]"
      ],
      "execution_count": 11,
      "outputs": []
    },
    {
      "cell_type": "code",
      "metadata": {
        "colab": {
          "base_uri": "https://localhost:8080/"
        },
        "id": "Rs_bJnrUQojO",
        "outputId": "baf0b4f3-a48a-4e04-87a7-208c125129ed"
      },
      "source": [
        "# plot_digit(X_train_prepared[0])\n",
        "X_train_prepared[0].shape"
      ],
      "execution_count": 17,
      "outputs": [
        {
          "output_type": "execute_result",
          "data": {
            "text/plain": [
              "(784,)"
            ]
          },
          "metadata": {
            "tags": []
          },
          "execution_count": 17
        }
      ]
    },
    {
      "cell_type": "code",
      "metadata": {
        "colab": {
          "base_uri": "https://localhost:8080/"
        },
        "id": "tJa8932GZVZo",
        "outputId": "8c64c26f-85dc-4184-cb01-706999c5fa24"
      },
      "source": [
        "X_test[0].shape"
      ],
      "execution_count": 18,
      "outputs": [
        {
          "output_type": "execute_result",
          "data": {
            "text/plain": [
              "(784,)"
            ]
          },
          "metadata": {
            "tags": []
          },
          "execution_count": 18
        }
      ]
    },
    {
      "cell_type": "code",
      "metadata": {
        "colab": {
          "base_uri": "https://localhost:8080/"
        },
        "id": "cnIFACZsRFEl",
        "outputId": "b6a67ff3-9024-4360-bc77-b9e483baf168"
      },
      "source": [
        "# Train with knn\n",
        "knn_v2 = KNeighborsClassifier(n_neighbors=4, weights='distance')\n",
        "knn_v2.fit(X_train_prepared, y_train_prepared)"
      ],
      "execution_count": 19,
      "outputs": [
        {
          "output_type": "execute_result",
          "data": {
            "text/plain": [
              "KNeighborsClassifier(algorithm='auto', leaf_size=30, metric='minkowski',\n",
              "                     metric_params=None, n_jobs=None, n_neighbors=4, p=2,\n",
              "                     weights='distance')"
            ]
          },
          "metadata": {
            "tags": []
          },
          "execution_count": 19
        }
      ]
    },
    {
      "cell_type": "code",
      "metadata": {
        "colab": {
          "base_uri": "https://localhost:8080/"
        },
        "id": "NZct1708R913",
        "outputId": "100f3eed-9c37-44b3-97c6-9bd9be3272da"
      },
      "source": [
        "from sklearn.metrics import accuracy_score\n",
        "\n",
        "y_pred = knn_v2.predict(X_test)\n",
        "accuracy_score(y_test, y_pred)"
      ],
      "execution_count": null,
      "outputs": [
        {
          "output_type": "execute_result",
          "data": {
            "text/plain": [
              "0.9763"
            ]
          },
          "metadata": {
            "tags": []
          },
          "execution_count": 20
        }
      ]
    }
  ]
}