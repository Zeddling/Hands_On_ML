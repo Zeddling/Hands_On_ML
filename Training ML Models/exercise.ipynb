{
  "nbformat": 4,
  "nbformat_minor": 0,
  "metadata": {
    "colab": {
      "name": "exercise.ipynb",
      "provenance": []
    },
    "kernelspec": {
      "name": "python3",
      "display_name": "Python 3"
    },
    "language_info": {
      "name": "python"
    }
  },
  "cells": [
    {
      "cell_type": "markdown",
      "metadata": {
        "id": "7p9tI_XkC1dv"
      },
      "source": [
        "#Batch Gradient Descent with early stopping for Softmax Regression"
      ]
    },
    {
      "cell_type": "code",
      "metadata": {
        "id": "JI6Xtf-DCy0l"
      },
      "source": [
        "from sklearn.datasets import load_iris\n",
        "iris = load_iris()\n",
        "X = iris[\"data\"][:, (2, 3)]\n",
        "y = iris[\"target\"]"
      ],
      "execution_count": null,
      "outputs": []
    },
    {
      "cell_type": "markdown",
      "metadata": {
        "id": "Z4lCYRtaFMQ9"
      },
      "source": [
        "Adding a bias term allows us to shift the activation function to the left or right for better learning. Refer to <a href=\"https://stackoverflow.com/questions/2480650/what-is-the-role-of-the-bias-in-neural-networks\">Stack Overflow</a>"
      ]
    },
    {
      "cell_type": "code",
      "metadata": {
        "id": "t9xqWH2oG--v"
      },
      "source": [
        "import numpy as np\n",
        "\n",
        "X_with_bias = np.c_[np.ones([len(X), 1]), X]\n",
        "np.random.seed(2042)"
      ],
      "execution_count": null,
      "outputs": []
    },
    {
      "cell_type": "markdown",
      "metadata": {
        "id": "bmw3f0aGHdZ1"
      },
      "source": [
        "Train test split"
      ]
    },
    {
      "cell_type": "code",
      "metadata": {
        "id": "kOL_PLPxHfY4"
      },
      "source": [
        "test_ratio = 0.2\n",
        "validation_ratio = 0.2\n",
        "total_size = len(X_with_bias)\n",
        "\n",
        "test_size = int(total_size * test_ratio)\n",
        "validation_size = int(total_size * validation_ratio)\n",
        "train_size = total_size - test_size - validation_size\n",
        "\n",
        "rnd_indices = np.random.permutation(total_size)\n",
        "\n",
        "X_train = X_with_bias[rnd_indices[:train_size]]\n",
        "y_train = y[rnd_indices[:train_size]]\n",
        "X_val = X_with_bias[rnd_indices[train_size:-test_size]]\n",
        "y_val = y[rnd_indices[train_size:-test_size]]\n",
        "X_test = X_with_bias[rnd_indices[-test_size:]]\n",
        "y_test = y[rnd_indices[-test_size:]]"
      ],
      "execution_count": null,
      "outputs": []
    },
    {
      "cell_type": "markdown",
      "metadata": {
        "id": "KeAXCVfwJV8Z"
      },
      "source": [
        "Softmax relies on target class probabilities to train the Softmax model. We one hot encode the target class so that we can have only the target being 1 and the others being 0."
      ]
    },
    {
      "cell_type": "code",
      "metadata": {
        "id": "3Mjvjcg8J8IL"
      },
      "source": [
        "def to_one_hot(y):\n",
        "  n_classes = y.max() + 1\n",
        "  m = len(y)\n",
        "  Y_one_hot = np.zeros((m, n_classes))\n",
        "  Y_one_hot[np.arange(m), y] = 1\n",
        "  return Y_one_hot"
      ],
      "execution_count": null,
      "outputs": []
    },
    {
      "cell_type": "code",
      "metadata": {
        "id": "6MApu8QCKh6z"
      },
      "source": [
        "y_train_one_hot = to_one_hot(y_train)\n",
        "y_valid_one_hot = to_one_hot(y_val)\n",
        "y_test_one_hot = to_one_hot(y_test)"
      ],
      "execution_count": null,
      "outputs": []
    },
    {
      "cell_type": "markdown",
      "metadata": {
        "id": "NrCfzjy8LXb2"
      },
      "source": [
        "Softmax function:\n",
        "$\\sigma\\left(\\mathbf{s}(\\mathbf{x})\\right)_k = \\dfrac{\\exp\\left(s_k(\\mathbf{x})\\right)}{\\sum\\limits_{j=1}^{K}{\\exp\\left(s_j(\\mathbf{x})\\right)}}$"
      ]
    },
    {
      "cell_type": "code",
      "metadata": {
        "id": "fG-fdZcsLQWT"
      },
      "source": [
        "def softmax(logits):\n",
        "  exps = np.exp(logits)\n",
        "  exp_sums = np.sum(exps, axis=1, keepdims=True)\n",
        "  return exps / exp_sums"
      ],
      "execution_count": null,
      "outputs": []
    },
    {
      "cell_type": "code",
      "metadata": {
        "id": "TpZKZgpNMIac"
      },
      "source": [
        "n_inputs = X_train.shape[1] # 2 features plus bias term\n",
        "n_outputs = len(np.unique(y_train))"
      ],
      "execution_count": null,
      "outputs": []
    },
    {
      "cell_type": "markdown",
      "metadata": {
        "id": "fi3quPH4M4Dc"
      },
      "source": [
        "Cost function: $J(\\mathbf{\\Theta}) = \\dfrac{1}{m}\\sum\\limits{i=1}^{m}\\sum\\limits{k=1}^{K}{y_k^{(i)}\\log\\left(\\hat{p}_k^{(i)}\\right)}$\n",
        "<br>\n",
        "Gradient vector: $\\nabla_{\\mathbf{\\theta}^{(k)}} \\, J(\\mathbf{\\Theta}) = \\dfrac{1}{m} \\sum\\limits_{i=1}^{m}{ \\left ( \\hat{p}^{(i)}_k - y_k^{(i)} \\right ) \\mathbf{x}^{(i)}}$"
      ]
    },
    {
      "cell_type": "code",
      "metadata": {
        "id": "ronWtGUoM_tn"
      },
      "source": [
        "eta = 0.01\n",
        "n_iterations = 5001\n",
        "m = len(X_train)\n",
        "epsilon = 1e-7\n",
        "losses = {}\n",
        "Theta = np.random.randn(n_inputs, n_outputs)\n",
        "\n",
        "for iteration in range(n_iterations):\n",
        "  logits = X_train.dot(Theta)\n",
        "  y_proba = softmax(logits)\n",
        "  if iteration % 250 == 0:\n",
        "    loss = -np.mean(np.sum(y_train_one_hot * np.log(y_proba + epsilon), axis=1))\n",
        "    losses[iteration] = loss\n",
        "  error = y_proba - y_train_one_hot\n",
        "  gradients = 1/m * X_train.T.dot(error)\n",
        "  Theta = Theta - eta * gradients"
      ],
      "execution_count": null,
      "outputs": []
    },
    {
      "cell_type": "code",
      "metadata": {
        "colab": {
          "base_uri": "https://localhost:8080/"
        },
        "id": "g8KQk0T7YRUQ",
        "outputId": "b1dff65a-05e1-4f86-f727-cc2d2339e0a5"
      },
      "source": [
        "list(losses.values())"
      ],
      "execution_count": null,
      "outputs": [
        {
          "output_type": "execute_result",
          "data": {
            "text/plain": [
              "[5.446205811872683,\n",
              " 0.9497305578157159,\n",
              " 0.8350062641405651,\n",
              " 0.7508456905160091,\n",
              " 0.6878801447192402,\n",
              " 0.6394870597490927,\n",
              " 0.6012379137693314,\n",
              " 0.5702084021586887,\n",
              " 0.5444496861981872,\n",
              " 0.5226379254157998,\n",
              " 0.5038530181431525,\n",
              " 0.48744022251062674,\n",
              " 0.47292289721922487,\n",
              " 0.45994657961690627,\n",
              " 0.44824244188957774,\n",
              " 0.4376029170471293,\n",
              " 0.42786510939287936,\n",
              " 0.4188992812918585,\n",
              " 0.41060071429187134,\n",
              " 0.40288385526869575,\n",
              " 0.3956780375390374]"
            ]
          },
          "metadata": {
            "tags": []
          },
          "execution_count": 43
        }
      ]
    },
    {
      "cell_type": "code",
      "metadata": {
        "colab": {
          "base_uri": "https://localhost:8080/",
          "height": 300
        },
        "id": "_wzXWfYsWYPU",
        "outputId": "836a6e64-ff2a-4dfe-f391-76d93a69dea0"
      },
      "source": [
        "import matplotlib.pyplot as plt\n",
        "\n",
        "plt.plot(list(losses.keys()), list(losses.values()), \"r-+\", linewidth=2, label=\"train\")\n",
        "plt.xlabel(\"Iteration\", fontsize=14)\n",
        "plt.ylabel(\"Loss\", fontsize=14)"
      ],
      "execution_count": null,
      "outputs": [
        {
          "output_type": "execute_result",
          "data": {
            "text/plain": [
              "Text(0, 0.5, 'Loss')"
            ]
          },
          "metadata": {
            "tags": []
          },
          "execution_count": 44
        },
        {
          "output_type": "display_data",
          "data": {
            "image/png": "[encoded data removed]",
            "text/plain": [
              "<Figure size 432x288 with 1 Axes>"
            ]
          },
          "metadata": {
            "tags": [],
            "needs_background": "light"
          }
        }
      ]
    },
    {
      "cell_type": "code",
      "metadata": {
        "colab": {
          "base_uri": "https://localhost:8080/"
        },
        "id": "Yw_wEC-AWw11",
        "outputId": "781c5a92-2c7f-4298-d8b8-62a2ec973a15"
      },
      "source": [
        "Theta"
      ],
      "execution_count": null,
      "outputs": [
        {
          "output_type": "execute_result",
          "data": {
            "text/plain": [
              "array([[ 3.32094157, -0.6501102 , -2.99979416],\n",
              "       [-1.1718465 ,  0.11706172,  0.10507543],\n",
              "       [-0.70224261, -0.09527802,  1.4786383 ]])"
            ]
          },
          "metadata": {
            "tags": []
          },
          "execution_count": 45
        }
      ]
    },
    {
      "cell_type": "code",
      "metadata": {
        "colab": {
          "base_uri": "https://localhost:8080/"
        },
        "id": "BkJ5_Em-Ywd5",
        "outputId": "d957cac2-bb3f-42f9-f719-e9dd1e863926"
      },
      "source": [
        "logits = X_val.dot(Theta)\n",
        "y_proba = softmax(logits)\n",
        "y_predict = np.argmax(y_proba, axis=1)\n",
        "accuracy_score = np.mean(y_predict == y_val)\n",
        "accuracy_score"
      ],
      "execution_count": null,
      "outputs": [
        {
          "output_type": "execute_result",
          "data": {
            "text/plain": [
              "0.9666666666666667"
            ]
          },
          "metadata": {
            "tags": []
          },
          "execution_count": 46
        }
      ]
    },
    {
      "cell_type": "code",
      "metadata": {
        "colab": {
          "base_uri": "https://localhost:8080/"
        },
        "id": "uy6KAPL7biDE",
        "outputId": "27fecf6c-2e49-4fdc-8f1c-5b626fd8e7ba"
      },
      "source": [
        "Theta"
      ],
      "execution_count": null,
      "outputs": [
        {
          "output_type": "execute_result",
          "data": {
            "text/plain": [
              "array([[ 3.32094157, -0.6501102 , -2.99979416],\n",
              "       [-1.1718465 ,  0.11706172,  0.10507543],\n",
              "       [-0.70224261, -0.09527802,  1.4786383 ]])"
            ]
          },
          "metadata": {
            "tags": []
          },
          "execution_count": 47
        }
      ]
    },
    {
      "cell_type": "markdown",
      "metadata": {
        "id": "7B1clBrqaXOS"
      },
      "source": [
        "Adding $\\ell_2$  norm for regularization"
      ]
    },
    {
      "cell_type": "code",
      "metadata": {
        "id": "3q3Yz3_JZJUm"
      },
      "source": [
        "eta = 0.1\n",
        "n_iterations = 5001\n",
        "m = len(X_train)\n",
        "epsilon = 1e-7\n",
        "alpha = 0.1  # regularization hyperparameter\n",
        "losses = {}\n",
        "\n",
        "Theta = np.random.randn(n_inputs, n_outputs)\n",
        "\n",
        "for iteration in range(n_iterations):\n",
        "    logits = X_train.dot(Theta)\n",
        "    y_proba = softmax(logits)\n",
        "    if iteration % 250 == 0:\n",
        "      xentropy_loss = -np.mean(np.sum(y_train_one_hot * np.log(y_proba + epsilon), axis=1))\n",
        "      l2_loss = 1/2 * np.sum(np.square(Theta[1:]))\n",
        "      loss = xentropy_loss + alpha * l2_loss\n",
        "      losses[iteration] = loss\n",
        "    error = y_proba - y_train_one_hot\n",
        "    gradients = 1/m * X_train.T.dot(error) + np.r_[np.zeros([1, n_outputs]), alpha * Theta[1:]]\n",
        "    Theta = Theta - eta * gradients"
      ],
      "execution_count": null,
      "outputs": []
    },
    {
      "cell_type": "code",
      "metadata": {
        "colab": {
          "base_uri": "https://localhost:8080/",
          "height": 300
        },
        "id": "t1SBEZjndUgy",
        "outputId": "f1bf78f2-cba0-4403-9a7a-4925f3e07322"
      },
      "source": [
        "plt.plot(list(losses.keys()), list(losses.values()), \"r-+\", linewidth=2, label=\"train\")\n",
        "plt.xlabel(\"Iteration\", fontsize=14)\n",
        "plt.ylabel(\"Loss\", fontsize=14)"
      ],
      "execution_count": null,
      "outputs": [
        {
          "output_type": "execute_result",
          "data": {
            "text/plain": [
              "Text(0, 0.5, 'Loss')"
            ]
          },
          "metadata": {
            "tags": []
          },
          "execution_count": 49
        },
        {
          "output_type": "display_data",
          "data": {
            "image/png": "[encoded data removed]",
            "text/plain": [
              "<Figure size 432x288 with 1 Axes>"
            ]
          },
          "metadata": {
            "tags": [],
            "needs_background": "light"
          }
        }
      ]
    },
    {
      "cell_type": "code",
      "metadata": {
        "colab": {
          "base_uri": "https://localhost:8080/"
        },
        "id": "cMBnRzOBdeJE",
        "outputId": "907b79b4-8ec6-481a-df9d-311aeabb87f3"
      },
      "source": [
        "logits = X_val.dot(Theta)\n",
        "y_proba = softmax(logits)\n",
        "y_predict = np.argmax(y_proba, axis=1)\n",
        "accuracy_score = np.mean(y_predict == y_val)\n",
        "accuracy_score"
      ],
      "execution_count": null,
      "outputs": [
        {
          "output_type": "execute_result",
          "data": {
            "text/plain": [
              "1.0"
            ]
          },
          "metadata": {
            "tags": []
          },
          "execution_count": 50
        }
      ]
    },
    {
      "cell_type": "code",
      "metadata": {
        "id": "fAw23NXTdpje"
      },
      "source": [
        "# Adding early stopping\n",
        "eta = 0.1 \n",
        "n_iterations = 5001\n",
        "m = len(X_train)\n",
        "epsilon = 1e-7\n",
        "alpha = 0.1  # regularization hyperparameter\n",
        "best_loss = np.infty\n",
        "best_iter = 0\n",
        "train_losses = {}\n",
        "val_losses = {}\n",
        "patience = 5\n",
        "patience_count = 0\n",
        "\n",
        "Theta = np.random.randn(n_inputs, n_outputs)\n",
        "\n",
        "def set_model_details(iters, best_iter, loss, patience, t_losses, v_losses):\n",
        "  details = {}\n",
        "  details[\"Iteration\"] = iters\n",
        "  details[\"Best Iteration\"] = best_iter\n",
        "  details[\"Loss\"] = loss\n",
        "  details[\"Patience\"] = patience\n",
        "  details[\"Training Loss Values per 250 iters\"] = t_losses\n",
        "  details[\"Validation Loss Values per 250 iters\"] = v_losses\n",
        "  return details\n",
        "\n",
        "for iteration in range(n_iterations):\n",
        "  # Train \n",
        "  logits = X_train.dot(Theta)\n",
        "  y_proba = softmax(logits)\n",
        "  xentropy_loss = -np.mean(np.sum(y_train_one_hot * np.log(y_proba + epsilon), axis=1))\n",
        "  l2_loss = 1/2 * np.sum(np.square(Theta[1:]))\n",
        "  loss = xentropy_loss + alpha * l2_loss\n",
        "  if iteration % 250 == 0:\n",
        "    train_losses[iteration] = loss\n",
        "  error = y_proba - y_train_one_hot\n",
        "  gradients = 1/m * X_train.T.dot(error) + np.r_[np.zeros([1, n_outputs]), alpha * Theta[1:]]\n",
        "  Theta = Theta - eta * gradients\n",
        "\n",
        "  # validation\n",
        "  logits = X_val.dot(Theta)\n",
        "  Y_proba = softmax(logits)\n",
        "  xentropy_loss = -np.mean(np.sum(y_train_one_hot * np.log(y_proba + epsilon), axis=1))\n",
        "  l2_loss = 1/2 * np.sum(np.square(Theta[1:]))\n",
        "  loss = xentropy_loss + alpha * l2_loss\n",
        "  if iteration % 250 == 0:\n",
        "    val_losses[iteration] = loss\n",
        "  if loss < best_loss:\n",
        "    best_loss = loss\n",
        "    best_iter = iteration\n",
        "  else:\n",
        "    if patience_count > patience:\n",
        "      details = set_model_details(iteration, best_iter, loss, patience,\n",
        "                                  train_losses, val_losses)\n",
        "      break\n",
        "    else:\n",
        "      patience_count += 1\n",
        "  details = set_model_details(iteration, best_iter, loss, patience,\n",
        "                                  train_losses, val_losses)   "
      ],
      "execution_count": null,
      "outputs": []
    },
    {
      "cell_type": "code",
      "metadata": {
        "colab": {
          "base_uri": "https://localhost:8080/"
        },
        "id": "JbrF9dLNiez6",
        "outputId": "a0d81ad2-88b6-42c1-c487-9a22a40cbf06"
      },
      "source": [
        "details"
      ],
      "execution_count": null,
      "outputs": [
        {
          "output_type": "execute_result",
          "data": {
            "text/plain": [
              "{'Best Iteration': 5000,\n",
              " 'Iteration': 5000,\n",
              " 'Loss': 0.48884398809168583,\n",
              " 'Patience': 5,\n",
              " 'Training Loss Values per 250 iters': {0: 2.6090601873251216,\n",
              "  250: 0.6252097523540127,\n",
              "  500: 0.5422546812386668,\n",
              "  750: 0.5173517476290375,\n",
              "  1000: 0.5056588586071499,\n",
              "  1250: 0.49921794169277695,\n",
              "  1500: 0.4954070928004687,\n",
              "  1750: 0.49306239803823365,\n",
              "  2000: 0.49158390059930845,\n",
              "  2250: 0.49063582728408195,\n",
              "  2500: 0.49002050572727307,\n",
              "  2750: 0.4896175510288207,\n",
              "  3000: 0.4893518628715172,\n",
              "  3250: 0.4891757547220872,\n",
              "  3500: 0.48905854006003713,\n",
              "  3750: 0.48898026834224717,\n",
              "  4000: 0.4889278648370402,\n",
              "  4250: 0.4888927068260658,\n",
              "  4500: 0.4888690791760023,\n",
              "  4750: 0.4888531787310906,\n",
              "  5000: 0.4888424665246303},\n",
              " 'Validation Loss Values per 250 iters': {0: 2.5912343407255505,\n",
              "  250: 0.6251797268806266,\n",
              "  500: 0.5423249588542545,\n",
              "  750: 0.5174042750700343,\n",
              "  1000: 0.5056980362522094,\n",
              "  1250: 0.4992484242844276,\n",
              "  1500: 0.49543143783420146,\n",
              "  1750: 0.4930821107388438,\n",
              "  2000: 0.4915999755332815,\n",
              "  2250: 0.4906489839049495,\n",
              "  2500: 0.490031294987558,\n",
              "  2750: 0.4896264086316366,\n",
              "  3000: 0.48935913939010856,\n",
              "  3250: 0.48918173484133076,\n",
              "  3500: 0.4890634561113928,\n",
              "  3750: 0.48898431045791924,\n",
              "  4000: 0.4889311888674963,\n",
              "  4250: 0.4888954406498883,\n",
              "  4500: 0.4888713277900163,\n",
              "  4750: 0.4888550283847733,\n",
              "  5000: 0.48884398809168583}}"
            ]
          },
          "metadata": {
            "tags": []
          },
          "execution_count": 66
        }
      ]
    },
    {
      "cell_type": "code",
      "metadata": {
        "colab": {
          "base_uri": "https://localhost:8080/",
          "height": 300
        },
        "id": "ebeLm7UTlzat",
        "outputId": "00e632b3-5c77-450c-a7f9-e454a7a3fc86"
      },
      "source": [
        "plt.plot(list(train_losses.keys()), list(train_losses.values()), \"r-+\", linewidth=2, label=\"train\")\n",
        "plt.plot(list(val_losses.keys()), list(val_losses.values()), \"b-\", linewidth=2, label=\"train\")\n",
        "plt.legend(loc=\"upper right\", fontsize=14)\n",
        "plt.xlabel(\"Iteration\", fontsize=14)\n",
        "plt.ylabel(\"Loss\", fontsize=14)"
      ],
      "execution_count": null,
      "outputs": [
        {
          "output_type": "execute_result",
          "data": {
            "text/plain": [
              "Text(0, 0.5, 'Loss')"
            ]
          },
          "metadata": {
            "tags": []
          },
          "execution_count": 67
        },
        {
          "output_type": "display_data",
          "data": {
            "image/png": "[encoded data removed]",
            "text/plain": [
              "<Figure size 432x288 with 1 Axes>"
            ]
          },
          "metadata": {
            "tags": [],
            "needs_background": "light"
          }
        }
      ]
    },
    {
      "cell_type": "code",
      "metadata": {
        "colab": {
          "base_uri": "https://localhost:8080/"
        },
        "id": "7MCRsulQmREA",
        "outputId": "098af6a2-7775-47f1-bde2-f72932a5d8c8"
      },
      "source": [
        "logits = X_val.dot(Theta)\n",
        "Y_proba = softmax(logits)\n",
        "y_predict = np.argmax(Y_proba, axis=1)\n",
        "\n",
        "accuracy_score = np.mean(y_predict == y_val)\n",
        "accuracy_score"
      ],
      "execution_count": null,
      "outputs": [
        {
          "output_type": "execute_result",
          "data": {
            "text/plain": [
              "1.0"
            ]
          },
          "metadata": {
            "tags": []
          },
          "execution_count": 70
        }
      ]
    },
    {
      "cell_type": "code",
      "metadata": {
        "colab": {
          "base_uri": "https://localhost:8080/",
          "height": 287
        },
        "id": "TyaYubxJmimF",
        "outputId": "9d582eea-e530-4e5a-897d-f1f1d2d4312f"
      },
      "source": [
        "from matplotlib.colors import ListedColormap\n",
        "x0, x1 = np.meshgrid(\n",
        "        np.linspace(0, 8, 500).reshape(-1, 1),\n",
        "        np.linspace(0, 3.5, 200).reshape(-1, 1),\n",
        "    )\n",
        "X_new = np.c_[x0.ravel(), x1.ravel()]\n",
        "X_new_with_bias = np.c_[np.ones([len(X_new), 1]), X_new]\n",
        "\n",
        "logits = X_new_with_bias.dot(Theta)\n",
        "Y_proba = softmax(logits)\n",
        "y_predict = np.argmax(Y_proba, axis=1)\n",
        "\n",
        "zz1 = Y_proba[:, 1].reshape(x0.shape)\n",
        "zz = y_predict.reshape(x0.shape)\n",
        "\n",
        "plt.figure(figsize=(10, 4))\n",
        "plt.plot(X[y==2, 0], X[y==2, 1], \"g^\", label=\"Iris virginica\")\n",
        "plt.plot(X[y==1, 0], X[y==1, 1], \"bs\", label=\"Iris versicolor\")\n",
        "plt.plot(X[y==0, 0], X[y==0, 1], \"yo\", label=\"Iris setosa\")\n",
        "\n",
        "custom_cmap = ListedColormap(['#fafab0','#9898ff','#a0faa0'])\n",
        "\n",
        "plt.contourf(x0, x1, zz, cmap=custom_cmap)\n",
        "contour = plt.contour(x0, x1, zz1, cmap=plt.cm.brg)\n",
        "plt.clabel(contour, inline=1, fontsize=12)\n",
        "plt.xlabel(\"Petal length\", fontsize=14)\n",
        "plt.ylabel(\"Petal width\", fontsize=14)\n",
        "plt.legend(loc=\"upper left\", fontsize=14)\n",
        "plt.axis([0, 7, 0, 3.5])\n",
        "plt.show()"
      ],
      "execution_count": null,
      "outputs": [
        {
          "output_type": "display_data",
          "data": {
            "image/png": "[encoded data removed]",
            "text/plain": [
              "<Figure size 720x288 with 1 Axes>"
            ]
          },
          "metadata": {
            "tags": [],
            "needs_background": "light"
          }
        }
      ]
    },
    {
      "cell_type": "code",
      "metadata": {
        "id": "rtUua3KVnIev",
        "colab": {
          "base_uri": "https://localhost:8080/"
        },
        "outputId": "9e54e552-0889-473b-cd34-bc928ea0548f"
      },
      "source": [
        "logits = X_test.dot(Theta)\n",
        "Y_proba = softmax(logits)\n",
        "y_predict = np.argmax(Y_proba, axis=1)\n",
        "\n",
        "accuracy_score = np.mean(y_predict == y_test)\n",
        "accuracy_score"
      ],
      "execution_count": null,
      "outputs": [
        {
          "output_type": "execute_result",
          "data": {
            "text/plain": [
              "0.9333333333333333"
            ]
          },
          "metadata": {
            "tags": []
          },
          "execution_count": 72
        }
      ]
    }
  ]
}