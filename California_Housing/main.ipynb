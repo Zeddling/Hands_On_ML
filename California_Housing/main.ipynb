{
 "metadata": {
  "language_info": {
   "codemirror_mode": {
    "name": "ipython",
    "version": 3
   },
   "file_extension": ".py",
   "mimetype": "text/x-python",
   "name": "python",
   "nbconvert_exporter": "python",
   "pygments_lexer": "ipython3",
   "version": "3.9.2-final"
  },
  "orig_nbformat": 2,
  "kernelspec": {
   "name": "python39264bitvenv9f0f4d746fbe4ace8c832efaa4393dec",
   "display_name": "Python 3.9.2 64-bit ('venv')"
  }
 },
 "nbformat": 4,
 "nbformat_minor": 2,
 "cells": [
  {
   "cell_type": "code",
   "execution_count": null,
   "metadata": {},
   "outputs": [],
   "source": [
    "#   Ensure imports are in the virtual environment\n",
    "#   !pip install pandas scikit-learn matplotlib seaborn"
   ]
  },
  {
   "cell_type": "code",
   "execution_count": null,
   "metadata": {},
   "outputs": [],
   "source": [
    "#   Imports\n",
    "import pandas as pd\n",
    "from pandas.plotting import scatter_matrix\n",
    "import matplotlib.pyplot as plt\n",
    "%matplotlib inline\n",
    "import numpy as np\n",
    "import seaborn as sns\n",
    "from sklearn.impute import SimpleImputer\n",
    "from sklearn.model_selection import StratifiedShuffleSplit, train_test_split"
   ]
  },
  {
   "cell_type": "code",
   "execution_count": null,
   "metadata": {},
   "outputs": [],
   "source": [
    "housing_dataframe = pd.read_csv(\"housing.csv\")\n",
    "housing_dataframe.head()"
   ]
  },
  {
   "cell_type": "code",
   "execution_count": null,
   "metadata": {},
   "outputs": [],
   "source": [
    "#   Check dataframe info\n",
    "housing_dataframe.info()"
   ]
  },
  {
   "cell_type": "code",
   "execution_count": null,
   "metadata": {},
   "outputs": [],
   "source": [
    "#   Check classes in ocean_proximity\n",
    "housing_dataframe[\"ocean_proximity\"].value_counts()"
   ]
  },
  {
   "cell_type": "code",
   "execution_count": null,
   "metadata": {},
   "outputs": [],
   "source": [
    "#   Describe data\n",
    "housing_dataframe.describe()"
   ]
  },
  {
   "cell_type": "code",
   "execution_count": null,
   "metadata": {},
   "outputs": [],
   "source": [
    "housing_dataframe.hist(bins=50, figsize=(20, 15))\n",
    "plt.show()"
   ]
  },
  {
   "cell_type": "code",
   "execution_count": null,
   "metadata": {},
   "outputs": [],
   "source": [
    "#   Create train and test set manually(Only for today)\n",
    "def split_train_test(data, test_ratio):\n",
    "    shuffled_indices = np.random.permutation(len(data))\n",
    "    test_set_size = int(len(data) * test_ratio)\n",
    "    test_indices = shuffled_indices[:test_set_size]\n",
    "    train_indices = shuffled_indices[test_set_size:]\n",
    "    return data.iloc[train_indices], data.iloc[test_indices]"
   ]
  },
  {
   "cell_type": "code",
   "execution_count": null,
   "metadata": {},
   "outputs": [],
   "source": [
    "naive_train_set, naive_test_set = split_train_test(housing_dataframe, 0.2)\n",
    "print(len(naive_train_set), len(naive_test_set))"
   ]
  },
  {
   "cell_type": "code",
   "execution_count": null,
   "metadata": {},
   "outputs": [],
   "source": [
    "#   Problem: Function will generate different examples every time we run it\n",
    "#            thus we'll see the whole dataset in the   long run\n",
    "#   Solution: Compute hash of each instance's   identifier and put that instance\n",
    "#             in the test set if the hash is lower or equal to 20% of the maximum hash value\n",
    "from zlib import crc32\n",
    "\n",
    "def test_set_check(identifier, test_ratio):\n",
    "    return crc32(np.int64(identifier)) & 0xffffffff < test_ratio * 2**32\n",
    "\n",
    "def split_train_test_by_id(data, test_ratio, id_column):\n",
    "    ids = data[id_column]\n",
    "    in_test_set = ids.apply(lambda id_: test_set_check(id_, test_ratio))\n",
    "    return data.loc[~in_test_set], data.loc[in_test_set]"
   ]
  },
  {
   "cell_type": "code",
   "execution_count": null,
   "metadata": {},
   "outputs": [],
   "source": [
    "#   adds an index column\n",
    "housing_with_id = housing_dataframe.reset_index()\n",
    "withhash_train_set, withhash_test_set = split_train_test_by_id(housing_with_id, 0.2, \"index\")"
   ]
  },
  {
   "cell_type": "code",
   "execution_count": null,
   "metadata": {},
   "outputs": [],
   "source": [
    "#   Using longitude and latitude as indices\n",
    "housing_with_id[\"id\"] = housing_dataframe[\"longitude\"] * 1000 + housing_dataframe[\"latitude\"]\n",
    "ll_train_set, ll_test_set = split_train_test_by_id(housing_with_id, 0.2, \"id\")"
   ]
  },
  {
   "cell_type": "code",
   "execution_count": null,
   "metadata": {},
   "outputs": [],
   "source": [
    "#   Using sklearn\n",
    "train_set, test_set = train_test_split(housing_dataframe, test_size=0.2, random_state=42)"
   ]
  },
  {
   "cell_type": "code",
   "execution_count": null,
   "metadata": {},
   "outputs": [],
   "source": [
    "#   There stands the possibility that the data may be\n",
    "#   stratified thus leading to some misrepresentation\n",
    "#   in some of the strata in the test set\n",
    "#   Example: Median income. To ensure complete\n",
    "#   representation in the test set, we can create an\n",
    "#   income category attribute to represent various\n",
    "#   strata. Each strata must have sufficient data to\n",
    "#   ensure that the stratum's importance is not biased\n",
    "housing_dataframe[\"income_cat\"] = pd.cut(housing_dataframe[\"median_income\"],bins=[0., 1.5, 3.0, 4.5, 6., np.inf], labels=[1, 2, 3, 4, 5])"
   ]
  },
  {
   "cell_type": "code",
   "execution_count": null,
   "metadata": {},
   "outputs": [],
   "source": [
    "#   Plot histogram\n",
    "housing_dataframe.income_cat.hist()"
   ]
  },
  {
   "cell_type": "code",
   "execution_count": null,
   "metadata": {},
   "outputs": [],
   "source": [
    "#   Stratified sampling based on income_cat\n",
    "split = StratifiedShuffleSplit(n_splits=1, test_size=0.2, random_state=42)\n",
    "for train_index, test_index in split.split(housing_dataframe, housing_dataframe[\"income_cat\"]):\n",
    "    strat_train_set = housing_dataframe.loc[train_index]\n",
    "    strat_test_set = housing_dataframe.loc[test_index]"
   ]
  },
  {
   "cell_type": "code",
   "execution_count": null,
   "metadata": {},
   "outputs": [],
   "source": [
    "#   Check income category proportions in the test set\n",
    "strat_test_set[\"income_cat\"].value_counts() / len(strat_test_set)"
   ]
  },
  {
   "cell_type": "code",
   "execution_count": null,
   "metadata": {},
   "outputs": [],
   "source": [
    "#   Check same in train set\n",
    "strat_train_set[\"income_cat\"].value_counts() / len(strat_train_set)"
   ]
  },
  {
   "cell_type": "code",
   "execution_count": null,
   "metadata": {},
   "outputs": [],
   "source": [
    "#   Note: Doing the same with the other split options\n",
    "#   will show that they are quite skewed whereas the\n",
    "#   stratified sampling is almost identical\n",
    "#   Remove income_cat to restore data to its original\n",
    "#   state\n",
    "for set_ in (strat_train_set, strat_test_set):\n",
    "    set_.drop(\"income_cat\", axis=1, inplace=True)"
   ]
  },
  {
   "cell_type": "code",
   "execution_count": null,
   "metadata": {},
   "outputs": [],
   "source": [
    "#   Visualizing Geographical Data\n",
    "#   alpha option to 0.1 makes it easier to visualize\n",
    "#   the places where there is a high density of data\n",
    "#   points\n",
    "housing_dataframe.plot(kind=\"scatter\", x=\"longitude\", y=\"latitude\", alpha=0.1)"
   ]
  },
  {
   "cell_type": "code",
   "execution_count": null,
   "metadata": {},
   "outputs": [],
   "source": [
    "#   s = district's population\n",
    "#   c = color represents the price\n",
    "#   cmap: jet(ranges from blue to red)\n",
    "housing_dataframe.plot(kind=\"scatter\", x=\"longitude\", y=\"latitude\", alpha=0.4, s=housing_dataframe[\"population\"]/100, label=\"population\", figsize=(10, 7), c=\"median_house_value\", cmap=plt.get_cmap(\"jet\"), colorbar=True)\n",
    "plt.legend()\n",
    "#   Plot shows that housing prices are very much\n",
    "#   related to the location and population density"
   ]
  },
  {
   "cell_type": "code",
   "execution_count": null,
   "metadata": {},
   "outputs": [],
   "source": [
    "#   Looking for correlations\n",
    "#   Compute standard correlation coefficient\n",
    "#   (Pearson's r)\n",
    "#   range 1(+ve correlation) to -1 (-ve correlation)\n",
    "correlation_matrix = housing_dataframe.corr()\n",
    "correlation_matrix[\"median_house_value\"].sort_values(ascending=False)"
   ]
  },
  {
   "cell_type": "code",
   "execution_count": null,
   "metadata": {},
   "outputs": [],
   "source": [
    "#   Using pandas' scatter matrix\n",
    "#   Plots numerical attributes against every other\n",
    "#   numerical attributes\n",
    "attributes = [\"median_house_value\", \"median_income\", \"total_rooms\", \"housing_median_age\"]\n",
    "scatter_matrix(housing_dataframe[attributes], figsize=(12, 8))"
   ]
  },
  {
   "cell_type": "code",
   "execution_count": null,
   "metadata": {},
   "outputs": [],
   "source": [
    "#   median_income seems like a promising attribute\n",
    "housing_dataframe.plot(kind=\"scatter\", x=\"median_income\", y=\"median_house_value\", alpha=0.1)"
   ]
  },
  {
   "cell_type": "code",
   "execution_count": null,
   "metadata": {},
   "outputs": [],
   "source": [
    "#   Experimenting with attribute combinations\n",
    "housing_dataframe[\"rooms_per_household\"] = housing_dataframe[\"total_rooms\"] / housing_dataframe[\"households\"]\n",
    "housing_dataframe[\"bedrooms_per_room\"] = housing_dataframe[\"total_bedrooms\"] / housing_dataframe[\"total_rooms\"]\n",
    "housing_dataframe[\"population_per_household\"] = housing_dataframe[\"population\"] / housing_dataframe[\"households\"]"
   ]
  },
  {
   "cell_type": "code",
   "execution_count": null,
   "metadata": {},
   "outputs": [],
   "source": [
    "#   Get correlation matrix of all\n",
    "corr_matrix = housing_dataframe.corr()\n",
    "corr_matrix[\"median_house_value\"].sort_values(ascending=False)\n",
    "#   We notice that bedrooms per room is more correlated\n",
    "#   than total number of bedrooms. This exploration\n",
    "#   step may help us gain more insights for our\n",
    "#   exploration step"
   ]
  },
  {
   "cell_type": "code",
   "execution_count": null,
   "metadata": {},
   "outputs": [],
   "source": [
    "#   Separate label/target from dataset\n",
    "housing = strat_train_set.drop(\"median_house_value\", axis=1)\n",
    "housing_labels = strat_train_set[\"median_house_value\"].copy()"
   ]
  },
  {
   "cell_type": "code",
   "execution_count": null,
   "metadata": {},
   "outputs": [],
   "source": [
    "#   Data cleaning\n",
    "#   Working with missing values\n",
    "\n",
    "#   Option 1: Drop rows with missing values\n",
    "housing.dropna(subset=[\"total_bedrooms\"])\n",
    "\n",
    "#   Option 2: Drop columns with the missing values\n",
    "housing.drop(\"total_bedrooms\", axis=1)\n",
    "\n",
    "#   Option 3: Fill missing values\n",
    "median = housing[\"total_bedrooms\"].median()\n",
    "housing[\"total_bedrooms\"].fillna(median, inplace=True)"
   ]
  },
  {
   "cell_type": "code",
   "execution_count": null,
   "metadata": {},
   "outputs": [],
   "source": [
    "#   Fill missing values using SimpleImputer\n",
    "imputer = SimpleImputer(strategy=\"median\")\n",
    "#   Median can only be calculated on numerical\n",
    "#   attributes. Drop categorical attributes\n",
    "#   and create copy of the data\n",
    "housing_num = housing.drop(\"ocean_proximity\", axis=1)\n",
    "imputer.fit(housing_num)"
   ]
  },
  {
   "cell_type": "code",
   "execution_count": null,
   "metadata": {},
   "outputs": [],
   "source": [
    "imputer.statistics_"
   ]
  },
  {
   "cell_type": "code",
   "execution_count": null,
   "metadata": {},
   "outputs": [],
   "source": [
    "#   Use trained imputer to transorm training set by\n",
    "#   replacing missing values with the median\n",
    "X = imputer.transform(housing_num)\n",
    "housing_tr = pd.DataFrame(X, columns=housing_num.columns)"
   ]
  },
  {
   "cell_type": "code",
   "execution_count": null,
   "metadata": {},
   "outputs": [],
   "source": [
    "#   Handling text and Categorical Attributes\n",
    "cat_attribs = [ col for col in housing_dataframe.columns if housing_dataframe[col].dtype == \"object\" ]\n",
    "housing_cat = housing_dataframe[cat_attribs]\n",
    "housing_cat.head(10)"
   ]
  },
  {
   "cell_type": "code",
   "execution_count": null,
   "metadata": {},
   "outputs": [],
   "source": [
    "#   Encode text\n",
    "from sklearn.preprocessing import OrdinalEncoder\n",
    "ordinal_encoder = OrdinalEncoder()\n",
    "housing_cat_encoded = ordinal_encoder.fit_transform(housing_cat)\n",
    "housing_cat_encoded[:10]"
   ]
  },
  {
   "cell_type": "code",
   "execution_count": null,
   "metadata": {},
   "outputs": [],
   "source": [
    "ordinal_encoder.categories_"
   ]
  },
  {
   "cell_type": "code",
   "execution_count": null,
   "metadata": {},
   "outputs": [],
   "source": [
    "#   Problem: Algorithm may assume that nearer\n",
    "#   attributes are more similar than two distant values\n",
    "#   e.g <1H OCEAN(0), INLAND(1) and NEAR OCEAN(4)\n",
    "#   Solution: One hot encoding\n",
    "from sklearn.preprocessing import OneHotEncoder\n",
    "onehot_encoder = OneHotEncoder()\n",
    "housing_cat_1hot = onehot_encoder.fit_transform(housing_cat)\n",
    "housing_cat_1hot\n",
    "#   Sparse matrix stores location of the non zero elements"
   ]
  },
  {
   "cell_type": "code",
   "execution_count": null,
   "metadata": {},
   "outputs": [],
   "source": [
    "# Custom transformer\n",
    "from sklearn.base import BaseEstimator, TransformerMixin\n",
    "\n",
    "rooms_ix, bedrooms_ix, population_ix, households_ix = 3, 4, 5, 6\n",
    "\n",
    "class CombinedAttributesAdder(BaseEstimator, TransformerMixin):\n",
    "    def __init__(self, add_bedrooms_per_room = True):\n",
    "        self.add_bedrooms_per_room = add_bedrooms_per_room\n",
    "    \n",
    "    def fit(self, X, y=None):\n",
    "        return self\n",
    "    \n",
    "    def transform(self, X, y=None):\n",
    "        rooms_per_household = X[:, rooms_ix] / X[:, households_ix]\n",
    "        population_per_household = X[:, population_ix] / X[:, households_ix]\n",
    "\n",
    "        if self.add_bedrooms_per_room:\n",
    "            bedrooms_per_room = X[:, bedrooms_ix] / X[:, rooms_ix]\n",
    "            return np.c_[X, rooms_per_household, population_per_household, bedrooms_per_room]\n",
    "        else:\n",
    "            return np.c_[X, rooms_per_household, population_per_household]\n",
    "\n",
    "attr_adder = CombinedAttributesAdder(add_bedrooms_per_room=False)\n",
    "housing_extra_attribs = attr_adder.transform(housing.values)"
   ]
  },
  {
   "cell_type": "code",
   "execution_count": null,
   "metadata": {},
   "outputs": [],
   "source": [
    "housing_extra_attribs.shape"
   ]
  },
  {
   "cell_type": "code",
   "execution_count": null,
   "metadata": {},
   "outputs": [],
   "source": [
    "#   Feature Scaling\n",
    "#   min-max scaling/normalization: MinMaxScaler range 0-1\n",
    "#   standardization: (i-mean)/standard_deviation. Less prone to outliers\n",
    "#   Use pipeline for transformations\n",
    "\n",
    "from sklearn.compose import ColumnTransformer\n",
    "from sklearn.pipeline import Pipeline\n",
    "from sklearn.preprocessing import StandardScaler\n",
    "\n",
    "num_attribs = list(housing_num)\n",
    "\n",
    "num_pipeline = Pipeline([\n",
    "    (\"imputer\", SimpleImputer(strategy=\"median\")),\n",
    "    (\"attribs_adder\", CombinedAttributesAdder()),\n",
    "    (\"std_scaler\", StandardScaler()),\n",
    "])\n",
    "\n",
    "full_pipeline = ColumnTransformer([\n",
    "    (\"num\", num_pipeline, num_attribs),\n",
    "    (\"cat\", OneHotEncoder(), cat_attribs),\n",
    "])\n",
    "\n",
    "housing_prepared = full_pipeline.fit_transform(housing)"
   ]
  },
  {
   "cell_type": "code",
   "execution_count": null,
   "metadata": {},
   "outputs": [],
   "source": [
    "#   Select and train a model\n",
    "#   Using a LinearRegression model\n",
    "from sklearn.linear_model import LinearRegression\n",
    "\n",
    "linear_regression_model = LinearRegression()\n",
    "linear_regression_model.fit(housing_prepared, housing_labels)"
   ]
  },
  {
   "cell_type": "code",
   "execution_count": null,
   "metadata": {},
   "outputs": [],
   "source": [
    "#   Testing on a few instances on the training dataset\n",
    "some_data = housing.iloc[:5]\n",
    "some_labels = housing_labels.iloc[:5]\n",
    "some_data_prepared = full_pipeline.transform(some_data)\n",
    "linear_regression_model.predict(some_data_prepared)"
   ]
  },
  {
   "cell_type": "code",
   "execution_count": null,
   "metadata": {},
   "outputs": [],
   "source": [
    "#   compare with labels\n",
    "list(some_labels)"
   ]
  },
  {
   "cell_type": "code",
   "execution_count": null,
   "metadata": {},
   "outputs": [],
   "source": [
    "#   Calculate error\n",
    "#   lre = LinearRegressor\n",
    "from sklearn.metrics import mean_squared_error\n",
    "housing_predictions_lre = linear_regression_model.predict(housing_prepared)\n",
    "linear_model_mse = mean_squared_error(housing_labels, housing_predictions_lre)\n",
    "linear_model_rmse = np.sqrt(linear_model_mse)\n",
    "linear_model_rmse"
   ]
  },
  {
   "cell_type": "code",
   "execution_count": null,
   "metadata": {},
   "outputs": [],
   "source": [
    "#   Model is underfitting.\n",
    "#   Why?\n",
    "#   1.  Not enough features\n",
    "#   2.  Model is not powerful enough\n",
    "#   Solutions\n",
    "#   1.  Choose a more powerful model\n",
    "#   2.  Train with better features\n",
    "#   3.  Reduce constraints on model(however it's not regularized so this option is ruled out)\n",
    "from sklearn.tree import DecisionTreeRegressor\n",
    "\n",
    "decision_tree_regressor = DecisionTreeRegressor()\n",
    "decision_tree_regressor.fit(housing_prepared, housing_labels)"
   ]
  },
  {
   "cell_type": "code",
   "execution_count": null,
   "metadata": {},
   "outputs": [],
   "source": [
    "#   dtr = DecisionTreeRegressor\n",
    "housing_predictions_dtr = decision_tree_regressor.predict(housing_prepared)\n",
    "decision_tree_regressor_mse = mean_squared_error(housing_labels, housing_predictions_dtr)\n",
    "decision_tree_regressor_rmse = np.sqrt(decision_tree_regressor_mse)\n",
    "decision_tree_regressor_rmse\n",
    "#   We are not sure if model overfitted or not\n",
    "#   Test set will be touched iff we are sure our model is ready"
   ]
  },
  {
   "cell_type": "code",
   "execution_count": null,
   "metadata": {},
   "outputs": [],
   "source": [
    "#   Cross Validation\n",
    "#   To evaluate model, options are:\n",
    "#       1.  Split training set into train and val\n",
    "#       2.  Using K-fold cross-validation feature\n",
    "#   k-fold randomly splits data into k folds then it trains and evaluates model k times,\n",
    "#   picking a differnet fold for evaluation every time and training on the other folds k-1 times\n",
    "from sklearn.model_selection import cross_val_score\n",
    "drt_scores = cross_val_score(decision_tree_regressor, housing_prepared, housing_labels, scoring=\"neg_mean_squared_error\", cv=10)\n",
    "dtr_rmse_scores = np.sqrt(-drt_scores)"
   ]
  },
  {
   "cell_type": "code",
   "execution_count": null,
   "metadata": {},
   "outputs": [],
   "source": [
    "#   Function to display cross_val_score results\n",
    "def display_scores(scores):\n",
    "    print(\"Scores: \", scores)\n",
    "    print(\"Mean: \", scores.mean())\n",
    "    print(\"Standard deviation:\", scores.std())"
   ]
  },
  {
   "cell_type": "code",
   "execution_count": null,
   "metadata": {},
   "outputs": [],
   "source": [
    "display_scores(dtr_rmse_scores)"
   ]
  },
  {
   "cell_type": "code",
   "execution_count": null,
   "metadata": {},
   "outputs": [],
   "source": [
    "#   Compare with linear regression model\n",
    "lre_scores = cross_val_score(linear_regression_model, housing_prepared, housing_labels, scoring=\"neg_mean_squared_error\", cv=10)\n",
    "lre_rmse_scores = np.sqrt(-lre_scores)\n",
    "display_scores(lre_rmse_scores)\n",
    "#   We learn that the decision tree is overfitting horribly"
   ]
  },
  {
   "cell_type": "code",
   "execution_count": null,
   "metadata": {},
   "outputs": [],
   "source": [
    "#   K = 10, scoring=negative mse\n",
    "def train_with_cross_val(model, X, y):\n",
    "    scores = cross_val_score(model, X, y, scoring=\"neg_mean_squared_error\", cv=10)\n",
    "    rmse_scores = np.sqrt(-scores)\n",
    "    return display_scores(rmse_scores)\n",
    "\n",
    "#   Calculate mse\n",
    "def rmse(model, X, y):\n",
    "    predictions = model.predict(X)\n",
    "    mse = mean_squared_error(y, predictions)\n",
    "    return np.sqrt(mse)"
   ]
  },
  {
   "cell_type": "code",
   "execution_count": null,
   "metadata": {},
   "outputs": [],
   "source": [
    "#   Try with random forests\n",
    "from sklearn.ensemble import RandomForestRegressor\n",
    "random_forest_regressor = RandomForestRegressor()\n",
    "random_forest_regressor.fit(housing_prepared, housing_labels)\n",
    "rmse(random_forest_regressor, housing_prepared, housing_labels)"
   ]
  },
  {
   "cell_type": "code",
   "execution_count": null,
   "metadata": {},
   "outputs": [],
   "source": [
    "train_with_cross_val(random_forest_regressor, housing_prepared, housing_labels)"
   ]
  },
  {
   "cell_type": "code",
   "execution_count": null,
   "metadata": {},
   "outputs": [],
   "source": [
    "#   Fine tune model\n",
    "#   Grid search - evaluates all possible combinations of hyperparameter values using cross validation\n",
    "#   param_grid the grid search will explore 12 + 6 = 18 combinations of RandomForestRegressor\n",
    "#   hyperparameter values, and it will train each model five times (since we are\n",
    "#   using five-fold cross validation)\n",
    "from sklearn.model_selection import GridSearchCV\n",
    "\n",
    "param_grid = [\n",
    "    {\n",
    "        'n_estimators':[3,10,30],\n",
    "        'max_features':[2,4,6,8]\n",
    "    },\n",
    "    {\n",
    "        'bootstrap':[False],\n",
    "        'n_estimators':[3,10],\n",
    "        'max_features':[2,3,4]\n",
    "    }\n",
    "]\n",
    "\n",
    "forest_reg = RandomForestRegressor()\n",
    "grid_search = GridSearchCV(forest_reg, param_grid, cv=5, scoring='neg_mean_squared_error', return_train_score=True)\n",
    "grid_search.fit(housing_prepared, housing_labels)"
   ]
  },
  {
   "cell_type": "code",
   "execution_count": null,
   "metadata": {},
   "outputs": [],
   "source": [
    "grid_search.best_params_"
   ]
  },
  {
   "cell_type": "code",
   "execution_count": null,
   "metadata": {},
   "outputs": [],
   "source": [
    "grid_search.best_estimator_"
   ]
  },
  {
   "cell_type": "code",
   "execution_count": null,
   "metadata": {},
   "outputs": [],
   "source": [
    "#   get evaluation scores\n",
    "cvres = grid_search.cv_results_\n",
    "for mean_score, params in zip(cvres[\"mean_test_score\"], cvres[\"params\"]):\n",
    "    print(np.sqrt(-mean_score), params)"
   ]
  },
  {
   "cell_type": "code",
   "execution_count": null,
   "metadata": {},
   "outputs": [],
   "source": [
    "#   Grid search is great while using a small search space for hyperparameters\n",
    "#   For large search space use RandomizedSearchCV\n",
    "#   Ensemble Methods combine the methods that perform the best e.g Random Forests vs Decision Trees\n",
    "feature_importances = grid_search.best_estimator_.feature_importances_\n",
    "feature_importances"
   ]
  },
  {
   "cell_type": "code",
   "execution_count": null,
   "metadata": {},
   "outputs": [],
   "source": [
    "extra_attribs = [\"rooms_per_hhold\", \"population_per_hhold\", \"bedrooms_per_room\"]\n",
    "cat_encoder = full_pipeline.named_transformers_[\"cat\"]\n",
    "cat_one_hot_attribs = list(cat_encoder.categories_[0])\n",
    "attributes = num_attribs + extra_attribs + cat_one_hot_attribs\n",
    "sorted(zip(feature_importances, attributes), reverse=True)"
   ]
  },
  {
   "cell_type": "code",
   "execution_count": null,
   "metadata": {},
   "outputs": [],
   "source": [
    "#   Evaluation on the test set\n",
    "final_model = grid_search.best_estimator_\n",
    "\n",
    "X_test = strat_test_set.drop(\"median_house_value\", axis=1)\n",
    "y_test = strat_test_set[\"median_house_value\"].copy()\n",
    "\n",
    "X_test_prepared = full_pipeline.transform(X_test)\n",
    "\n",
    "final_predictions = final_model.predict(X_test_prepared)\n",
    "\n",
    "final_mse = mean_squared_error(y_test, final_predictions)\n",
    "final_rmse = np.sqrt(final_mse)"
   ]
  },
  {
   "cell_type": "code",
   "execution_count": null,
   "metadata": {},
   "outputs": [],
   "source": [
    "final_rmse"
   ]
  },
  {
   "cell_type": "code",
   "execution_count": null,
   "metadata": {},
   "outputs": [],
   "source": [
    "from scipy import stats\n",
    "\n",
    "confidence = 0.95\n",
    "squared_errors = (final_predictions - y_test) ** 2\n",
    "np.sqrt(stats.t.interval(confidence, len(squared_errors) - 1, loc=squared_errors.mean(), scale=stats.sem(squared_errors)))"
   ]
  },
  {
   "cell_type": "code",
   "execution_count": null,
   "metadata": {},
   "outputs": [],
   "source": []
  }
 ]
}